{
 "cells": [
  {
   "cell_type": "code",
   "execution_count": null,
   "metadata": {
    "colab": {
     "base_uri": "https://localhost:8080/"
    },
    "id": "xjX3oBFf5YpY",
    "outputId": "18f2eb25-47b9-4ff2-c1cf-b39f6bd5b2e5"
   },
   "outputs": [],
   "source": [
    "# import numpy as np\n",
    "# import os\n",
    "# import time\n",
    "# from camera.camera import RealSenseCamera\n",
    "# from vision_slam import VisionSLAM\n",
    "# from robot.flexiv import FlexivRobot\n",
    "\n",
    "    \n",
    "# # Initialize the camera and robot\n",
    "# cam = RealSenseCamera()\n",
    "# cam_intrinsics = cam.getIntrinsics()  # Intrinsic parameters of the camera\n",
    "# flexiv_robot = FlexivRobot()\n",
    "\n",
    "# # Move robot to home position\n",
    "# flexiv_robot.move_to_home()\n",
    "# flexiv_robot.set_zero_ft()\n",
    "\n",
    "# # Generate trajectory for scanning\n",
    "# home_pose = flexiv_robot.get_tcp_pose(euler=True, degree=True)\n",
    "# object_position = home_pose[:3]  # Use only the XYZ component\n",
    "# vision_slam = VisionSLAM()\n",
    "# trajectory = vision_slam.generate_3d_scan_trajectory(object_position)\n",
    "# vision_slam.plot_trajectory(trajectory, object_position=object_position, show_orientation=True, scale=0.02)\n",
    "# # Create output directory\n",
    "# output_dir = \"dataset\"\n",
    "# os.makedirs(output_dir, exist_ok=True)\n",
    "\n",
    "# # Loop through each pose in the trajectory\n",
    "# for i, pose in enumerate(trajectory):\n",
    "#     flexiv_robot.cartesian_motion_control(pose)\n",
    "#     robot_pose = flexiv_robot.get_tcp_pose(matrix=True)  # 4x4 matrix\n",
    "#     time.sleep(1)\n",
    "#     color, depth = cam.get_data(hole_filling=False)\n",
    "\n",
    "\n",
    "    \n",
    "#     rgb_path = os.path.join(output_dir, f\"rgb_{i:d}.npy\")\n",
    "#     np.save(rgb_path, color)\n",
    "#     depth_path = os.path.join(output_dir, f\"depth_{i:d}.npy\")\n",
    "#     np.save(depth_path, depth)\n",
    "#     pose_path = os.path.join(output_dir, f\"pose_{i:d}.npy\")\n",
    "#     np.save(pose_path, robot_pose)\n",
    "    \n",
    "\n",
    "\n"
   ]
  },
  {
   "cell_type": "code",
   "execution_count": null,
   "metadata": {},
   "outputs": [],
   "source": [
    "from train import train_gs\n",
    "\n",
    "train_gs()\n",
    "\n"
   ]
  }
 ],
 "metadata": {
  "accelerator": "GPU",
  "colab": {
   "gpuType": "T4",
   "machine_shape": "hm",
   "provenance": []
  },
  "kernelspec": {
   "display_name": "tactile",
   "language": "python",
   "name": "python3"
  },
  "language_info": {
   "codemirror_mode": {
    "name": "ipython",
    "version": 3
   },
   "file_extension": ".py",
   "mimetype": "text/x-python",
   "name": "python",
   "nbconvert_exporter": "python",
   "pygments_lexer": "ipython3",
   "version": "3.10.15"
  }
 },
 "nbformat": 4,
 "nbformat_minor": 0
}
